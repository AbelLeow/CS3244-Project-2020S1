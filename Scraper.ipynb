{
 "cells": [
  {
   "cell_type": "code",
   "execution_count": 14,
   "metadata": {},
   "outputs": [
    {
     "name": "stdout",
     "output_type": "stream",
     "text": [
      "Collecting psaw\n",
      "  Downloading psaw-0.0.12-py3-none-any.whl (15 kB)\n",
      "Requirement already satisfied: Click in c:\\users\\admin\\anaconda3\\lib\\site-packages (from psaw) (7.1.2)\n",
      "Requirement already satisfied: requests in c:\\users\\admin\\anaconda3\\lib\\site-packages (from psaw) (2.24.0)\n",
      "Requirement already satisfied: certifi>=2017.4.17 in c:\\users\\admin\\anaconda3\\lib\\site-packages (from requests->psaw) (2020.6.20)\n",
      "Requirement already satisfied: idna<3,>=2.5 in c:\\users\\admin\\anaconda3\\lib\\site-packages (from requests->psaw) (2.10)\n",
      "Requirement already satisfied: urllib3!=1.25.0,!=1.25.1,<1.26,>=1.21.1 in c:\\users\\admin\\anaconda3\\lib\\site-packages (from requests->psaw) (1.25.9)\n",
      "Requirement already satisfied: chardet<4,>=3.0.2 in c:\\users\\admin\\anaconda3\\lib\\site-packages (from requests->psaw) (3.0.4)\n",
      "Installing collected packages: psaw\n",
      "Successfully installed psaw-0.0.12\n",
      "Note: you may need to restart the kernel to use updated packages.\n"
     ]
    }
   ],
   "source": [
    "pip install psaw\n",
    "pip install praw"
   ]
  },
  {
   "cell_type": "code",
   "execution_count": 76,
   "metadata": {},
   "outputs": [],
   "source": [
    "import praw\n",
    "from psaw import PushshiftAPI\n",
    "import pandas as pd\n",
    "import datetime as dt\n",
    "import time"
   ]
  },
  {
   "cell_type": "code",
   "execution_count": 77,
   "metadata": {},
   "outputs": [],
   "source": [
    "#Removed input for security\n",
    "reddit = praw.Reddit(client_id='', \\\n",
    "                     client_secret='', \\\n",
    "                     user_agent='', \\\n",
    "                     username='', \\\n",
    "                     password='')\n",
    "\n",
    "api = PushshiftAPI(reddit)\n",
    "\n",
    "def get_date(created):\n",
    "    return dt.datetime.fromtimestamp(created)"
   ]
  },
  {
   "cell_type": "code",
   "execution_count": 81,
   "metadata": {},
   "outputs": [
    {
     "data": {
      "text/plain": []
     },
     "execution_count": 81,
     "metadata": {},
     "output_type": "execute_result"
    }
   ],
   "source": [
    "\"\"\"\n",
    "For 1 day\n",
    "\n",
    "start_epoch = int(dt.datetime(2017,1,1).timestamp())\n",
    "end_epoch = int(dt.datetime(2017,1,2).timestamp())\n",
    "\n",
    "results = list(api.search_submissions(after=start_epoch,\n",
    "                                      before=end_epoch,\n",
    "                                     subreddit = \"business\",\n",
    "                                     limit=100,\n",
    "                                     sort_type = \"score\"))\n",
    "\n",
    "topics_dict = { \"title\":[],\n",
    "               \"score\":[], \n",
    "               \"id\":[], \"url\":[],\n",
    "               \"comms_num\": [],\n",
    "               \"created\": [],\n",
    "               \"body\":[]}\n",
    "\n",
    "for submission in results[:25]:\n",
    "    topics_dict[\"title\"].append(submission.title)\n",
    "    topics_dict[\"score\"].append(submission.score)\n",
    "    topics_dict[\"id\"].append(submission.id)\n",
    "    topics_dict[\"url\"].append(submission.url)\n",
    "    topics_dict[\"comms_num\"].append(submission.num_comments)\n",
    "    topics_dict[\"created\"].append(submission.created)\n",
    "    topics_dict[\"body\"].append(submission.selftext)\n",
    "\n",
    "\n",
    "\n",
    "topics_data = pd.DataFrame(topics_dict)\n",
    "_timestamp = topics_data[\"created\"].apply(get_date)\n",
    "topics_data = topics_data.assign(timestamp = _timestamp)\n",
    "\"\"\""
   ]
  },
  {
   "cell_type": "code",
   "execution_count": 83,
   "metadata": {},
   "outputs": [
    {
     "name": "stdout",
     "output_type": "stream",
     "text": []
    },
    {
     "name": "stdout",
     "output_type": "stream",
     "text": []
    },
    {
     "ename": "KeyboardInterrupt",
     "evalue": "",
     "output_type": "error",
     "traceback": []
    }
   ],
   "source": [
    "start_time = time.time()\n",
    "\n",
    "all_dfs = []\n",
    "\n",
    "for year in range(2010, 2016):\n",
    "    for month in range(1, 13):\n",
    "        print(\"Month: \",month)\n",
    "        for day in range(1,32):\n",
    "            try:\n",
    "                start_epoch = int(dt.datetime(year, month, day).timestamp())\n",
    "            except:\n",
    "                continue\n",
    "\n",
    "            try:\n",
    "                end_epoch = int(dt.datetime(year,month,day+1).timestamp())\n",
    "            except:\n",
    "                if month!=12:\n",
    "                    end_epoch = int(dt.datetime(year,month+1, 1).timestamp())\n",
    "                else:\n",
    "                    end_epoch = int(dt.datetime(year+1,1,1).timestamp())\n",
    "                    \n",
    "            print(\"Day: \", day)\n",
    "            \n",
    "            results = list(api.search_submissions(after=start_epoch,\n",
    "                                      before=end_epoch,\n",
    "                                     subreddit = \"business\",\n",
    "                                     limit=100,\n",
    "                                     sort_type = \"score\"))\n",
    "            topics_dict = { \"title\":[],\n",
    "               \"score\":[], \n",
    "               \"id\":[], \"url\":[],\n",
    "               \"comms_num\": [],\n",
    "               \"created\": [],\n",
    "               \"body\":[]}\n",
    "            \n",
    "            for submission in results[:25]:\n",
    "                topics_dict[\"title\"].append(submission.title)\n",
    "                topics_dict[\"score\"].append(submission.score)\n",
    "                topics_dict[\"id\"].append(submission.id)\n",
    "                topics_dict[\"url\"].append(submission.url)\n",
    "                topics_dict[\"comms_num\"].append(submission.num_comments)\n",
    "                topics_dict[\"created\"].append(submission.created)\n",
    "                topics_dict[\"body\"].append(submission.selftext)\n",
    "            \n",
    "            topics_data = pd.DataFrame(topics_dict)\n",
    "            _timestamp = topics_data[\"created\"].apply(get_date)\n",
    "            topics_data = topics_data.assign(timestamp = _timestamp)\n",
    "            \n",
    "            all_dfs.append(topics_data)\n",
    "    \n",
    "    print(\"Year \",year, \" is done! \\n Time taken: \", round(time.time()-start_time,2))"
   ]
  },
  {
   "cell_type": "code",
   "execution_count": 69,
   "metadata": {},
   "outputs": [],
   "source": [
    "temp = pd.concat(all_dfs, axis=0, join='outer', ignore_index=False, keys=None,\n",
    "          levels=None, names=None, verify_integrity=False, copy=True)"
   ]
  },
  {
   "cell_type": "code",
   "execution_count": null,
   "metadata": {},
   "outputs": [],
   "source": []
  }
 ],
 "metadata": {
  "kernelspec": {
   "display_name": "Python 3",
   "language": "python",
   "name": "python3"
  },
  "language_info": {
   "codemirror_mode": {
    "name": "ipython",
    "version": 3
   },
   "file_extension": ".py",
   "mimetype": "text/x-python",
   "name": "python",
   "nbconvert_exporter": "python",
   "pygments_lexer": "ipython3",
   "version": "3.8.3"
  }
 },
 "nbformat": 4,
 "nbformat_minor": 4
}
